{
  "cells": [
    {
      "cell_type": "markdown",
      "metadata": {
        "id": "view-in-github",
        "colab_type": "text"
      },
      "source": [
        "<a href=\"https://colab.research.google.com/github/ViCuc105/Yolov5-v5.0/blob/main/MaskCheck.ipynb\" target=\"_parent\"><img src=\"https://colab.research.google.com/assets/colab-badge.svg\" alt=\"Open In Colab\"/></a>"
      ]
    },
    {
      "cell_type": "code",
      "source": [
        "import torch\n",
        "\n",
        "if torch.cuda.is_available():\n",
        "  print(f\"GPU {torch.cuda.get_device_name(0)}\") #Xác định tên GPU đang dùng\n",
        "\n",
        "!rm -rf Yolov5-v5.0\n",
        "!git clone https://github.com/ViCuc105/Yolov5-v5.0\n",
        "%cd Yolov5-v5.0\n",
        "!pip install -r requirements.txt"
      ],
      "metadata": {
        "id": "KtiKcu74yHHA"
      },
      "execution_count": null,
      "outputs": []
    }
  ],
  "metadata": {
    "colab": {
      "collapsed_sections": [],
      "name": "Colaboratory chào mừng bạn!",
      "toc_visible": true,
      "provenance": [],
      "include_colab_link": true
    },
    "kernelspec": {
      "display_name": "Python 3",
      "name": "python3"
    }
  },
  "nbformat": 4,
  "nbformat_minor": 0
}